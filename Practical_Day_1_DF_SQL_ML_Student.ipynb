{
  "cells": [
    {
      "cell_type": "markdown",
      "id": "05f1e8db",
      "metadata": {
        "id": "05f1e8db"
      },
      "source": [
        "# **Labs 1 and 2 PySpark:**\n",
        "\n",
        "In these labs we will be using the \"[[NeurIPS 2020] Data Science for COVID-19 (DS4C)](https://www.kaggle.com/datasets/kimjihoo/coronavirusdataset?select=PatientInfo.csv)\" dataset, retrieved from [Kaggle](https://www.kaggle.com/) on 1/6/2022, for educational non commercial purpose, License\n",
        "[CC BY-NC-SA 4.0\n",
        "](https://creativecommons.org/licenses/by-nc-sa/4.0/)\n",
        "\n",
        "\n",
        "The csv file that we will be using in this lab is **PatientInfo**."
      ]
    },
    {
      "cell_type": "markdown",
      "id": "3ac9bbf0",
      "metadata": {
        "id": "3ac9bbf0"
      },
      "source": [
        "## PatientInfo.csv\n",
        "\n",
        "**patient_id**\n",
        "the ID of the patient\n",
        "\n",
        "**sex**\n",
        "the sex of the patient\n",
        "\n",
        "**age**\n",
        "the age of the patient\n",
        "\n",
        "**country**\n",
        "the country of the patient\n",
        "\n",
        "**province**\n",
        "the province of the patient\n",
        "\n",
        "**city**\n",
        "the city of the patient\n",
        "\n",
        "**infection_case**\n",
        "the case of infection\n",
        "\n",
        "**infected_by**\n",
        "the ID of who infected the patient\n",
        "\n",
        "\n",
        "**contact_number**\n",
        "the number of contacts with people\n",
        "\n",
        "**symptom_onset_date**\n",
        "the date of symptom onset\n",
        "\n",
        "**confirmed_date**\n",
        "the date of being confirmed\n",
        "\n",
        "**released_date**\n",
        "the date of being released\n",
        "\n",
        "**deceased_date**\n",
        "the date of being deceased\n",
        "\n",
        "**state**\n",
        "isolated / released / deceased"
      ]
    },
    {
      "cell_type": "code",
      "source": [
        "# install java\n",
        "!apt-get install openjdk-8-jdk-headless -qq > /dev/null\n",
        "\n",
        "# install spark (change the version number if needed)\n",
        "!wget -q https://archive.apache.org/dist/spark/spark-3.0.0/spark-3.0.0-bin-hadoop3.2.tgz\n",
        "\n",
        "# unzip the spark file to the current folder\n",
        "!tar xf spark-3.0.0-bin-hadoop3.2.tgz\n",
        "\n",
        "# set your spark folder to your system path environment. \n",
        "import os\n",
        "os.environ[\"JAVA_HOME\"] = \"/usr/lib/jvm/java-8-openjdk-amd64\"\n",
        "os.environ[\"SPARK_HOME\"] = \"/content/spark-3.0.0-bin-hadoop3.2\"\n",
        "\n",
        "# install findspark using pip\n",
        "!pip install -q findspark\n",
        "\n",
        "!pip install pyspark\n",
        "\n",
        "import findspark\n",
        "findspark.init()"
      ],
      "metadata": {
        "colab": {
          "base_uri": "https://localhost:8080/"
        },
        "id": "gIro_Yl3_Fdc",
        "outputId": "4a5a6c78-d2aa-435a-a568-53e7b8c18faa"
      },
      "id": "gIro_Yl3_Fdc",
      "execution_count": null,
      "outputs": [
        {
          "output_type": "stream",
          "name": "stdout",
          "text": [
            "Looking in indexes: https://pypi.org/simple, https://us-python.pkg.dev/colab-wheels/public/simple/\n",
            "Requirement already satisfied: pyspark in /usr/local/lib/python3.7/dist-packages (3.3.0)\n",
            "Requirement already satisfied: py4j==0.10.9.5 in /usr/local/lib/python3.7/dist-packages (from pyspark) (0.10.9.5)\n"
          ]
        }
      ]
    },
    {
      "cell_type": "markdown",
      "id": "34b6f619",
      "metadata": {
        "id": "34b6f619"
      },
      "source": [
        "### Import the pyspark and check it's version"
      ]
    },
    {
      "cell_type": "code",
      "execution_count": null,
      "id": "29fe2ddc",
      "metadata": {
        "id": "29fe2ddc"
      },
      "outputs": [],
      "source": [
        "# Import PySpark\n",
        "import pyspark\n",
        "from pyspark.sql import SparkSession"
      ]
    },
    {
      "cell_type": "markdown",
      "id": "70c0fc8e",
      "metadata": {
        "id": "70c0fc8e"
      },
      "source": [
        "### Import and create SparkSession"
      ]
    },
    {
      "cell_type": "code",
      "execution_count": null,
      "id": "94904228",
      "metadata": {
        "colab": {
          "base_uri": "https://localhost:8080/"
        },
        "id": "94904228",
        "outputId": "84276851-5a17-4701-baa8-5011b0b1c2f9"
      },
      "outputs": [
        {
          "output_type": "stream",
          "name": "stdout",
          "text": [
            "PySpark Version :3.0.0\n"
          ]
        }
      ],
      "source": [
        "# Create SparkSession\n",
        "spark = SparkSession.builder.master(\"local[4]\") \\\n",
        "                    .appName('Practica_Day') \\\n",
        "                    .getOrCreate()\n",
        "print('PySpark Version :'+spark.version)"
      ]
    },
    {
      "cell_type": "markdown",
      "id": "7356d68d",
      "metadata": {
        "id": "7356d68d"
      },
      "source": [
        "### Load the PatientInfo.csv file and show the first 5 rows"
      ]
    },
    {
      "cell_type": "code",
      "execution_count": null,
      "id": "d5185728",
      "metadata": {
        "colab": {
          "base_uri": "https://localhost:8080/",
          "height": 17
        },
        "id": "d5185728",
        "outputId": "0dc50498-16c9-4c5b-89d3-a4d68850a32a"
      },
      "outputs": [
        {
          "output_type": "display_data",
          "data": {
            "text/plain": [
              "<IPython.core.display.HTML object>"
            ],
            "text/html": [
              "<style>pre { white-space: pre !important; }</style>"
            ]
          },
          "metadata": {}
        }
      ],
      "source": [
        "from IPython.display import display, HTML\n",
        "display(HTML(\"<style>pre { white-space: pre !important; }</style>\"))"
      ]
    },
    {
      "cell_type": "code",
      "execution_count": null,
      "id": "2196bca5",
      "metadata": {
        "id": "2196bca5"
      },
      "outputs": [],
      "source": [
        "df = spark.read.csv(\"PatientInfo.csv\", header=True, inferSchema=True)"
      ]
    },
    {
      "cell_type": "code",
      "source": [
        "df1 = df"
      ],
      "metadata": {
        "id": "uCjmURm6hVYG"
      },
      "id": "uCjmURm6hVYG",
      "execution_count": null,
      "outputs": []
    },
    {
      "cell_type": "markdown",
      "id": "4d43bdca",
      "metadata": {
        "id": "4d43bdca"
      },
      "source": [
        "### Display the schema of the dataset"
      ]
    },
    {
      "cell_type": "code",
      "execution_count": null,
      "id": "c51a2507",
      "metadata": {
        "colab": {
          "base_uri": "https://localhost:8080/"
        },
        "id": "c51a2507",
        "outputId": "bb3d3f34-d156-40c7-f6cf-836a1fdff4e6"
      },
      "outputs": [
        {
          "output_type": "stream",
          "name": "stdout",
          "text": [
            "root\n",
            " |-- patient_id: long (nullable = true)\n",
            " |-- sex: string (nullable = true)\n",
            " |-- age: string (nullable = true)\n",
            " |-- country: string (nullable = true)\n",
            " |-- province: string (nullable = true)\n",
            " |-- city: string (nullable = true)\n",
            " |-- infection_case: string (nullable = true)\n",
            " |-- infected_by: string (nullable = true)\n",
            " |-- contact_number: string (nullable = true)\n",
            " |-- symptom_onset_date: string (nullable = true)\n",
            " |-- confirmed_date: string (nullable = true)\n",
            " |-- released_date: string (nullable = true)\n",
            " |-- deceased_date: string (nullable = true)\n",
            " |-- state: string (nullable = true)\n",
            "\n"
          ]
        }
      ],
      "source": [
        "df.printSchema()"
      ]
    },
    {
      "cell_type": "markdown",
      "id": "3114e1dd",
      "metadata": {
        "id": "3114e1dd"
      },
      "source": [
        "### Display the statistical summary"
      ]
    },
    {
      "cell_type": "code",
      "execution_count": null,
      "id": "18d63947",
      "metadata": {
        "colab": {
          "base_uri": "https://localhost:8080/"
        },
        "id": "18d63947",
        "outputId": "73134208-4dfd-4b35-8a56-cc572e5bfd9b"
      },
      "outputs": [
        {
          "output_type": "stream",
          "name": "stdout",
          "text": [
            "+-------+--------------------+------+----+----------+--------+--------------+--------------------+--------------------+--------------------+------------------+--------------+-------------+-------------+--------+\n",
            "|summary|          patient_id|   sex| age|   country|province|          city|      infection_case|         infected_by|      contact_number|symptom_onset_date|confirmed_date|released_date|deceased_date|   state|\n",
            "+-------+--------------------+------+----+----------+--------+--------------+--------------------+--------------------+--------------------+------------------+--------------+-------------+-------------+--------+\n",
            "|  count|                5165|  4043|3785|      5165|    5165|          5071|                4246|                1346|                 791|               690|          5162|         1587|           66|    5165|\n",
            "|   mean|2.8636345618679576E9|  null|null|      null|    null|          null|                null|2.2845944015643125E9|1.6772572523506988E7|              null|          null|         null|         null|    null|\n",
            "| stddev| 2.074210725277473E9|  null|null|      null|    null|          null|                null|1.5265072953383324E9| 3.093097580985502E8|              null|          null|         null|         null|    null|\n",
            "|    min|          1000000001|female|  0s|Bangladesh|   Busan|     Andong-si|Anyang Gunpo Past...|          1000000002|                   -|                  |    2020-01-20|   2020-02-05|   2020-02-19|deceased|\n",
            "|    25%|          1000001292|  null|null|      null|    null|          null|                null|       1.400000102E9|                 2.0|              null|          null|         null|         null|    null|\n",
            "|    50%|          2000000370|  null|null|      null|    null|          null|                null|       2.000000167E9|                 4.0|              null|          null|         null|         null|    null|\n",
            "|    75%|          6001000116|  null|null|      null|    null|          null|                null|       2.000000975E9|                14.0|              null|          null|         null|         null|    null|\n",
            "|    max|          7000000019|  male| 90s|   Vietnam|   Ulsan|sankyeock-dong|     overseas inflow|          7000000009|                  95|        2020-06-28|    2020-06-30|   2020-06-28|   2020-05-25|released|\n",
            "+-------+--------------------+------+----+----------+--------+--------------+--------------------+--------------------+--------------------+------------------+--------------+-------------+-------------+--------+\n",
            "\n"
          ]
        }
      ],
      "source": [
        "df.summary().show()"
      ]
    },
    {
      "cell_type": "markdown",
      "id": "c78859b9",
      "metadata": {
        "id": "c78859b9"
      },
      "source": [
        "### Using the state column.\n",
        "### How many people survived (released), and how many didn't survive (isolated/deceased)?"
      ]
    },
    {
      "cell_type": "code",
      "execution_count": null,
      "id": "63e84045",
      "metadata": {
        "colab": {
          "base_uri": "https://localhost:8080/"
        },
        "id": "63e84045",
        "outputId": "29e35b60-6eee-4ee5-caaf-ff9bfa8026af"
      },
      "outputs": [
        {
          "output_type": "stream",
          "name": "stdout",
          "text": [
            "+----------+------+---+-------+--------+------------+--------------------+-----------+--------------+------------------+--------------+-------------+-------------+--------+\n",
            "|patient_id|   sex|age|country|province|        city|      infection_case|infected_by|contact_number|symptom_onset_date|confirmed_date|released_date|deceased_date|   state|\n",
            "+----------+------+---+-------+--------+------------+--------------------+-----------+--------------+------------------+--------------+-------------+-------------+--------+\n",
            "|1000000001|  male|50s|  Korea|   Seoul|  Gangseo-gu|     overseas inflow|       null|            75|        2020-01-22|    2020-01-23|   2020-02-05|         null|released|\n",
            "|1000000002|  male|30s|  Korea|   Seoul| Jungnang-gu|     overseas inflow|       null|            31|              null|    2020-01-30|   2020-03-02|         null|released|\n",
            "|1000000003|  male|50s|  Korea|   Seoul|   Jongno-gu|contact with patient| 2002000001|            17|              null|    2020-01-30|   2020-02-19|         null|released|\n",
            "|1000000004|  male|20s|  Korea|   Seoul|     Mapo-gu|     overseas inflow|       null|             9|        2020-01-26|    2020-01-30|   2020-02-15|         null|released|\n",
            "|1000000005|female|20s|  Korea|   Seoul| Seongbuk-gu|contact with patient| 1000000002|             2|              null|    2020-01-31|   2020-02-24|         null|released|\n",
            "|1000000006|female|50s|  Korea|   Seoul|   Jongno-gu|contact with patient| 1000000003|            43|              null|    2020-01-31|   2020-02-19|         null|released|\n",
            "|1000000007|  male|20s|  Korea|   Seoul|   Jongno-gu|contact with patient| 1000000003|             0|              null|    2020-01-31|   2020-02-10|         null|released|\n",
            "|1000000008|  male|20s|  Korea|   Seoul|         etc|     overseas inflow|       null|             0|              null|    2020-02-02|   2020-02-24|         null|released|\n",
            "|1000000009|  male|30s|  Korea|   Seoul|   Songpa-gu|     overseas inflow|       null|            68|              null|    2020-02-05|   2020-02-21|         null|released|\n",
            "|1000000010|female|60s|  Korea|   Seoul| Seongbuk-gu|contact with patient| 1000000003|             6|              null|    2020-02-05|   2020-02-29|         null|released|\n",
            "|1000000011|female|50s|  China|   Seoul|Seodaemun-gu|     overseas inflow|       null|            23|              null|    2020-02-06|   2020-02-29|         null|released|\n",
            "|1000000012|  male|20s|  Korea|   Seoul|         etc|     overseas inflow|       null|             0|              null|    2020-02-07|   2020-02-27|         null|released|\n",
            "|1000000013|  male|80s|  Korea|   Seoul|   Jongno-gu|contact with patient| 1000000017|           117|              null|    2020-02-16|         null|         null|deceased|\n",
            "|1000000014|female|60s|  Korea|   Seoul|   Jongno-gu|contact with patient| 1000000013|            27|        2020-02-06|    2020-02-16|   2020-03-12|         null|released|\n",
            "|1000000015|  male|70s|  Korea|   Seoul|Seongdong-gu|    Seongdong-gu APT|       null|             8|        2020-02-11|    2020-02-19|         null|         null|released|\n",
            "|1000000016|  male|70s|  Korea|   Seoul|   Jongno-gu|contact with patient| 1000000017|          null|              null|    2020-02-19|   2020-03-11|         null|released|\n",
            "|1000000017|  male|70s|  Korea|   Seoul|   Jongno-gu|contact with patient| 1000000003|          null|              null|    2020-02-20|   2020-03-01|         null|released|\n",
            "|1000000018|  male|20s|  Korea|   Seoul|         etc|                 etc|       null|          null|              null|    2020-02-20|         null|         null|released|\n",
            "|1000000019|female|70s|  Korea|   Seoul|   Jongno-gu|contact with patient| 1000000021|          null|              null|    2020-02-20|   2020-03-08|         null|released|\n",
            "|1000000020|female|70s|  Korea|   Seoul|Seongdong-gu|    Seongdong-gu APT| 1000000015|          null|              null|    2020-02-20|         null|         null|released|\n",
            "+----------+------+---+-------+--------+------------+--------------------+-----------+--------------+------------------+--------------+-------------+-------------+--------+\n",
            "only showing top 20 rows\n",
            "\n"
          ]
        }
      ],
      "source": [
        "df.show()"
      ]
    },
    {
      "cell_type": "code",
      "source": [
        "from pyspark.sql.functions import *\n",
        "\n",
        "#Number of people survived\n",
        "df.createOrReplaceTempView('MyDF')\n",
        "df.select('state').where(df.state=='released').agg(count('*').alias('NumberOfdeceased')).show()"
      ],
      "metadata": {
        "colab": {
          "base_uri": "https://localhost:8080/"
        },
        "id": "X37Qp80JBExG",
        "outputId": "611ba180-dbba-4d47-e35b-ffd78bb057d3"
      },
      "id": "X37Qp80JBExG",
      "execution_count": null,
      "outputs": [
        {
          "output_type": "stream",
          "name": "stdout",
          "text": [
            "+----------------+\n",
            "|NumberOfdeceased|\n",
            "+----------------+\n",
            "|            2929|\n",
            "+----------------+\n",
            "\n"
          ]
        }
      ]
    },
    {
      "cell_type": "code",
      "source": [
        "df.select('state').where(df.state=='deceased').agg(count('*').alias('NumberOfdeceased')).show()"
      ],
      "metadata": {
        "colab": {
          "base_uri": "https://localhost:8080/"
        },
        "id": "MfeNP5PLCn2S",
        "outputId": "c8e75b67-9844-42e1-a752-e18dffa59105"
      },
      "id": "MfeNP5PLCn2S",
      "execution_count": null,
      "outputs": [
        {
          "output_type": "stream",
          "name": "stdout",
          "text": [
            "+----------------+\n",
            "|NumberOfdeceased|\n",
            "+----------------+\n",
            "|              78|\n",
            "+----------------+\n",
            "\n"
          ]
        }
      ]
    },
    {
      "cell_type": "markdown",
      "id": "59c16346",
      "metadata": {
        "id": "59c16346"
      },
      "source": [
        "### Display the number of null values in each column"
      ]
    },
    {
      "cell_type": "code",
      "execution_count": null,
      "id": "4adc0ab6",
      "metadata": {
        "colab": {
          "base_uri": "https://localhost:8080/"
        },
        "id": "4adc0ab6",
        "outputId": "f5d82b9f-f4bf-4af5-dd6f-2657278bfefe"
      },
      "outputs": [
        {
          "output_type": "stream",
          "name": "stdout",
          "text": [
            "+----------+----+----+-------+--------+----+--------------+-----------+--------------+------------------+--------------+-------------+-------------+-----+\n",
            "|patient_id| sex| age|country|province|city|infection_case|infected_by|contact_number|symptom_onset_date|confirmed_date|released_date|deceased_date|state|\n",
            "+----------+----+----+-------+--------+----+--------------+-----------+--------------+------------------+--------------+-------------+-------------+-----+\n",
            "|         0|1122|1380|      0|       0|  94|           919|       3819|          4374|              4475|             3|         3578|         5099|    0|\n",
            "+----------+----+----+-------+--------+----+--------------+-----------+--------------+------------------+--------------+-------------+-------------+-----+\n",
            "\n"
          ]
        },
        {
          "output_type": "stream",
          "name": "stderr",
          "text": [
            "Exception ignored in: <function JavaWrapper.__del__ at 0x7ff141f5f950>\n",
            "Traceback (most recent call last):\n",
            "  File \"/content/spark-3.0.0-bin-hadoop3.2/python/pyspark/ml/wrapper.py\", line 42, in __del__\n",
            "    if SparkContext._active_spark_context and self._java_obj is not None:\n",
            "AttributeError: 'MulticlassClassificationEvaluator' object has no attribute '_java_obj'\n",
            "Exception ignored in: <function JavaWrapper.__del__ at 0x7ff141f5f950>\n",
            "Traceback (most recent call last):\n",
            "  File \"/content/spark-3.0.0-bin-hadoop3.2/python/pyspark/ml/wrapper.py\", line 42, in __del__\n",
            "    if SparkContext._active_spark_context and self._java_obj is not None:\n",
            "AttributeError: 'MulticlassClassificationEvaluator' object has no attribute '_java_obj'\n"
          ]
        }
      ],
      "source": [
        "df.select([count(when(col(c).isNull(),c)).alias(c) for c in df.columns]).show()"
      ]
    },
    {
      "cell_type": "markdown",
      "id": "c3133f5a",
      "metadata": {
        "id": "c3133f5a"
      },
      "source": [
        "## Data preprocessing"
      ]
    },
    {
      "cell_type": "markdown",
      "id": "ec32fa0c",
      "metadata": {
        "id": "ec32fa0c"
      },
      "source": [
        "### Fill the nulls in the deceased_date with the released_date. \n",
        "- You can use <b>coalesce</b> function"
      ]
    },
    {
      "cell_type": "code",
      "execution_count": null,
      "id": "d5ba64f9",
      "metadata": {
        "id": "d5ba64f9"
      },
      "outputs": [],
      "source": [
        "df = df.withColumn(\"deceased_date\",coalesce(df.deceased_date,df.released_date))"
      ]
    },
    {
      "cell_type": "markdown",
      "id": "4ec324f5",
      "metadata": {
        "id": "4ec324f5"
      },
      "source": [
        "### Add a column named no_days which is difference between the deceased_date and the confirmed_date then show the top 5 rows. Print the schema.\n",
        "- <b> Hint: You need to typecast these columns as date first <b>"
      ]
    },
    {
      "cell_type": "code",
      "execution_count": null,
      "id": "d065e472",
      "metadata": {
        "colab": {
          "base_uri": "https://localhost:8080/"
        },
        "id": "d065e472",
        "outputId": "5ec81474-f331-49b9-852e-b052183c05a9"
      },
      "outputs": [
        {
          "output_type": "stream",
          "name": "stdout",
          "text": [
            "root\n",
            " |-- patient_id: long (nullable = true)\n",
            " |-- sex: string (nullable = true)\n",
            " |-- age: string (nullable = true)\n",
            " |-- country: string (nullable = true)\n",
            " |-- province: string (nullable = true)\n",
            " |-- city: string (nullable = true)\n",
            " |-- infection_case: string (nullable = true)\n",
            " |-- infected_by: string (nullable = true)\n",
            " |-- contact_number: string (nullable = true)\n",
            " |-- symptom_onset_date: string (nullable = true)\n",
            " |-- confirmed_date: date (nullable = true)\n",
            " |-- released_date: string (nullable = true)\n",
            " |-- deceased_date: date (nullable = true)\n",
            " |-- state: string (nullable = true)\n",
            "\n"
          ]
        }
      ],
      "source": [
        "import pyspark.sql.functions as fn\n",
        "df = df.withColumn('deceased_date',df.deceased_date.cast('Date')).withColumn('confirmed_date',df.confirmed_date.cast('Date'))\n",
        "df.printSchema()"
      ]
    },
    {
      "cell_type": "code",
      "source": [
        "df = df.withColumn('no_days', lit(datediff(col(\"deceased_date\"),col(\"confirmed_date\"))))\n",
        "df.show()"
      ],
      "metadata": {
        "colab": {
          "base_uri": "https://localhost:8080/"
        },
        "id": "pvDveRQmHCII",
        "outputId": "b2d4d49c-263b-473a-e7e2-7ccb518db9ac"
      },
      "id": "pvDveRQmHCII",
      "execution_count": null,
      "outputs": [
        {
          "output_type": "stream",
          "name": "stdout",
          "text": [
            "+----------+------+---+-------+--------+------------+--------------------+-----------+--------------+------------------+--------------+-------------+-------------+--------+-------+\n",
            "|patient_id|   sex|age|country|province|        city|      infection_case|infected_by|contact_number|symptom_onset_date|confirmed_date|released_date|deceased_date|   state|no_days|\n",
            "+----------+------+---+-------+--------+------------+--------------------+-----------+--------------+------------------+--------------+-------------+-------------+--------+-------+\n",
            "|1000000001|  male|50s|  Korea|   Seoul|  Gangseo-gu|     overseas inflow|       null|            75|        2020-01-22|    2020-01-23|   2020-02-05|   2020-02-05|released|     13|\n",
            "|1000000002|  male|30s|  Korea|   Seoul| Jungnang-gu|     overseas inflow|       null|            31|              null|    2020-01-30|   2020-03-02|   2020-03-02|released|     32|\n",
            "|1000000003|  male|50s|  Korea|   Seoul|   Jongno-gu|contact with patient| 2002000001|            17|              null|    2020-01-30|   2020-02-19|   2020-02-19|released|     20|\n",
            "|1000000004|  male|20s|  Korea|   Seoul|     Mapo-gu|     overseas inflow|       null|             9|        2020-01-26|    2020-01-30|   2020-02-15|   2020-02-15|released|     16|\n",
            "|1000000005|female|20s|  Korea|   Seoul| Seongbuk-gu|contact with patient| 1000000002|             2|              null|    2020-01-31|   2020-02-24|   2020-02-24|released|     24|\n",
            "|1000000006|female|50s|  Korea|   Seoul|   Jongno-gu|contact with patient| 1000000003|            43|              null|    2020-01-31|   2020-02-19|   2020-02-19|released|     19|\n",
            "|1000000007|  male|20s|  Korea|   Seoul|   Jongno-gu|contact with patient| 1000000003|             0|              null|    2020-01-31|   2020-02-10|   2020-02-10|released|     10|\n",
            "|1000000008|  male|20s|  Korea|   Seoul|         etc|     overseas inflow|       null|             0|              null|    2020-02-02|   2020-02-24|   2020-02-24|released|     22|\n",
            "|1000000009|  male|30s|  Korea|   Seoul|   Songpa-gu|     overseas inflow|       null|            68|              null|    2020-02-05|   2020-02-21|   2020-02-21|released|     16|\n",
            "|1000000010|female|60s|  Korea|   Seoul| Seongbuk-gu|contact with patient| 1000000003|             6|              null|    2020-02-05|   2020-02-29|   2020-02-29|released|     24|\n",
            "|1000000011|female|50s|  China|   Seoul|Seodaemun-gu|     overseas inflow|       null|            23|              null|    2020-02-06|   2020-02-29|   2020-02-29|released|     23|\n",
            "|1000000012|  male|20s|  Korea|   Seoul|         etc|     overseas inflow|       null|             0|              null|    2020-02-07|   2020-02-27|   2020-02-27|released|     20|\n",
            "|1000000013|  male|80s|  Korea|   Seoul|   Jongno-gu|contact with patient| 1000000017|           117|              null|    2020-02-16|         null|         null|deceased|   null|\n",
            "|1000000014|female|60s|  Korea|   Seoul|   Jongno-gu|contact with patient| 1000000013|            27|        2020-02-06|    2020-02-16|   2020-03-12|   2020-03-12|released|     25|\n",
            "|1000000015|  male|70s|  Korea|   Seoul|Seongdong-gu|    Seongdong-gu APT|       null|             8|        2020-02-11|    2020-02-19|         null|         null|released|   null|\n",
            "|1000000016|  male|70s|  Korea|   Seoul|   Jongno-gu|contact with patient| 1000000017|          null|              null|    2020-02-19|   2020-03-11|   2020-03-11|released|     21|\n",
            "|1000000017|  male|70s|  Korea|   Seoul|   Jongno-gu|contact with patient| 1000000003|          null|              null|    2020-02-20|   2020-03-01|   2020-03-01|released|     10|\n",
            "|1000000018|  male|20s|  Korea|   Seoul|         etc|                 etc|       null|          null|              null|    2020-02-20|         null|         null|released|   null|\n",
            "|1000000019|female|70s|  Korea|   Seoul|   Jongno-gu|contact with patient| 1000000021|          null|              null|    2020-02-20|   2020-03-08|   2020-03-08|released|     17|\n",
            "|1000000020|female|70s|  Korea|   Seoul|Seongdong-gu|    Seongdong-gu APT| 1000000015|          null|              null|    2020-02-20|         null|         null|released|   null|\n",
            "+----------+------+---+-------+--------+------------+--------------------+-----------+--------------+------------------+--------------+-------------+-------------+--------+-------+\n",
            "only showing top 20 rows\n",
            "\n"
          ]
        }
      ]
    },
    {
      "cell_type": "markdown",
      "id": "967b2466",
      "metadata": {
        "id": "967b2466"
      },
      "source": [
        "### Add a is_male column if male then it should yield true, else then False"
      ]
    },
    {
      "cell_type": "code",
      "execution_count": null,
      "id": "8efe03b5",
      "metadata": {
        "colab": {
          "base_uri": "https://localhost:8080/"
        },
        "id": "8efe03b5",
        "outputId": "0451d7ea-c538-463d-9a7e-e95d7a94696d"
      },
      "outputs": [
        {
          "output_type": "stream",
          "name": "stdout",
          "text": [
            "+----------+------+---+-------+--------+------------+--------------------+-----------+--------------+------------------+--------------+-------------+-------------+--------+-------+-------+\n",
            "|patient_id|   sex|age|country|province|        city|      infection_case|infected_by|contact_number|symptom_onset_date|confirmed_date|released_date|deceased_date|   state|no_days|is_male|\n",
            "+----------+------+---+-------+--------+------------+--------------------+-----------+--------------+------------------+--------------+-------------+-------------+--------+-------+-------+\n",
            "|1000000001|  male|50s|  Korea|   Seoul|  Gangseo-gu|     overseas inflow|       null|            75|        2020-01-22|    2020-01-23|   2020-02-05|   2020-02-05|released|     13|   True|\n",
            "|1000000002|  male|30s|  Korea|   Seoul| Jungnang-gu|     overseas inflow|       null|            31|              null|    2020-01-30|   2020-03-02|   2020-03-02|released|     32|   True|\n",
            "|1000000003|  male|50s|  Korea|   Seoul|   Jongno-gu|contact with patient| 2002000001|            17|              null|    2020-01-30|   2020-02-19|   2020-02-19|released|     20|   True|\n",
            "|1000000004|  male|20s|  Korea|   Seoul|     Mapo-gu|     overseas inflow|       null|             9|        2020-01-26|    2020-01-30|   2020-02-15|   2020-02-15|released|     16|   True|\n",
            "|1000000005|female|20s|  Korea|   Seoul| Seongbuk-gu|contact with patient| 1000000002|             2|              null|    2020-01-31|   2020-02-24|   2020-02-24|released|     24|  False|\n",
            "|1000000006|female|50s|  Korea|   Seoul|   Jongno-gu|contact with patient| 1000000003|            43|              null|    2020-01-31|   2020-02-19|   2020-02-19|released|     19|  False|\n",
            "|1000000007|  male|20s|  Korea|   Seoul|   Jongno-gu|contact with patient| 1000000003|             0|              null|    2020-01-31|   2020-02-10|   2020-02-10|released|     10|   True|\n",
            "|1000000008|  male|20s|  Korea|   Seoul|         etc|     overseas inflow|       null|             0|              null|    2020-02-02|   2020-02-24|   2020-02-24|released|     22|   True|\n",
            "|1000000009|  male|30s|  Korea|   Seoul|   Songpa-gu|     overseas inflow|       null|            68|              null|    2020-02-05|   2020-02-21|   2020-02-21|released|     16|   True|\n",
            "|1000000010|female|60s|  Korea|   Seoul| Seongbuk-gu|contact with patient| 1000000003|             6|              null|    2020-02-05|   2020-02-29|   2020-02-29|released|     24|  False|\n",
            "|1000000011|female|50s|  China|   Seoul|Seodaemun-gu|     overseas inflow|       null|            23|              null|    2020-02-06|   2020-02-29|   2020-02-29|released|     23|  False|\n",
            "|1000000012|  male|20s|  Korea|   Seoul|         etc|     overseas inflow|       null|             0|              null|    2020-02-07|   2020-02-27|   2020-02-27|released|     20|   True|\n",
            "|1000000013|  male|80s|  Korea|   Seoul|   Jongno-gu|contact with patient| 1000000017|           117|              null|    2020-02-16|         null|         null|deceased|   null|   True|\n",
            "|1000000014|female|60s|  Korea|   Seoul|   Jongno-gu|contact with patient| 1000000013|            27|        2020-02-06|    2020-02-16|   2020-03-12|   2020-03-12|released|     25|  False|\n",
            "|1000000015|  male|70s|  Korea|   Seoul|Seongdong-gu|    Seongdong-gu APT|       null|             8|        2020-02-11|    2020-02-19|         null|         null|released|   null|   True|\n",
            "|1000000016|  male|70s|  Korea|   Seoul|   Jongno-gu|contact with patient| 1000000017|          null|              null|    2020-02-19|   2020-03-11|   2020-03-11|released|     21|   True|\n",
            "|1000000017|  male|70s|  Korea|   Seoul|   Jongno-gu|contact with patient| 1000000003|          null|              null|    2020-02-20|   2020-03-01|   2020-03-01|released|     10|   True|\n",
            "|1000000018|  male|20s|  Korea|   Seoul|         etc|                 etc|       null|          null|              null|    2020-02-20|         null|         null|released|   null|   True|\n",
            "|1000000019|female|70s|  Korea|   Seoul|   Jongno-gu|contact with patient| 1000000021|          null|              null|    2020-02-20|   2020-03-08|   2020-03-08|released|     17|  False|\n",
            "|1000000020|female|70s|  Korea|   Seoul|Seongdong-gu|    Seongdong-gu APT| 1000000015|          null|              null|    2020-02-20|         null|         null|released|   null|  False|\n",
            "+----------+------+---+-------+--------+------------+--------------------+-----------+--------------+------------------+--------------+-------------+-------------+--------+-------+-------+\n",
            "only showing top 20 rows\n",
            "\n"
          ]
        }
      ],
      "source": [
        "df = df.withColumn('is_male', when((df.sex == 'male'), lit(\"True\")).otherwise(lit(\"False\")))\n",
        "df.show()"
      ]
    },
    {
      "cell_type": "markdown",
      "id": "8603d7c0",
      "metadata": {
        "id": "8603d7c0"
      },
      "source": [
        "### Add a is_dead column if patient state is not released then it should yield true, else then False\n",
        "\n",
        "- Use <b>UDF</b> to perform this task. \n",
        "- However, UDF is not recommended there is no built in function can do the required operation.\n",
        "- UDF is slower than built in functions."
      ]
    },
    {
      "cell_type": "code",
      "execution_count": null,
      "id": "d3343075",
      "metadata": {
        "id": "d3343075"
      },
      "outputs": [],
      "source": [
        "def Myfun(statecol):\n",
        "  if statecol == 'released':\n",
        "    return False\n",
        "  else:\n",
        "    return True"
      ]
    },
    {
      "cell_type": "code",
      "source": [
        "from pyspark.sql.functions import udf\n",
        "from pyspark.sql.types import IntegerType,BooleanType,DateType\n",
        "\n",
        "mudf = udf(Myfun, BooleanType())\n",
        "df = df.withColumn(\"is_dead\", mudf(df.state))\n",
        "df.show()"
      ],
      "metadata": {
        "colab": {
          "base_uri": "https://localhost:8080/"
        },
        "id": "G0MsqtC0Z02R",
        "outputId": "3a8aa838-9f1d-4353-ee35-10c6c0521ce6"
      },
      "id": "G0MsqtC0Z02R",
      "execution_count": null,
      "outputs": [
        {
          "output_type": "stream",
          "name": "stdout",
          "text": [
            "+----------+------+---+-------+--------+------------+--------------------+-----------+--------------+------------------+--------------+-------------+-------------+--------+-------+-------+-------+\n",
            "|patient_id|   sex|age|country|province|        city|      infection_case|infected_by|contact_number|symptom_onset_date|confirmed_date|released_date|deceased_date|   state|no_days|is_male|is_dead|\n",
            "+----------+------+---+-------+--------+------------+--------------------+-----------+--------------+------------------+--------------+-------------+-------------+--------+-------+-------+-------+\n",
            "|1000000001|  male|50s|  Korea|   Seoul|  Gangseo-gu|     overseas inflow|       null|            75|        2020-01-22|    2020-01-23|   2020-02-05|   2020-02-05|released|     13|   True|  false|\n",
            "|1000000002|  male|30s|  Korea|   Seoul| Jungnang-gu|     overseas inflow|       null|            31|              null|    2020-01-30|   2020-03-02|   2020-03-02|released|     32|   True|  false|\n",
            "|1000000003|  male|50s|  Korea|   Seoul|   Jongno-gu|contact with patient| 2002000001|            17|              null|    2020-01-30|   2020-02-19|   2020-02-19|released|     20|   True|  false|\n",
            "|1000000004|  male|20s|  Korea|   Seoul|     Mapo-gu|     overseas inflow|       null|             9|        2020-01-26|    2020-01-30|   2020-02-15|   2020-02-15|released|     16|   True|  false|\n",
            "|1000000005|female|20s|  Korea|   Seoul| Seongbuk-gu|contact with patient| 1000000002|             2|              null|    2020-01-31|   2020-02-24|   2020-02-24|released|     24|  False|  false|\n",
            "|1000000006|female|50s|  Korea|   Seoul|   Jongno-gu|contact with patient| 1000000003|            43|              null|    2020-01-31|   2020-02-19|   2020-02-19|released|     19|  False|  false|\n",
            "|1000000007|  male|20s|  Korea|   Seoul|   Jongno-gu|contact with patient| 1000000003|             0|              null|    2020-01-31|   2020-02-10|   2020-02-10|released|     10|   True|  false|\n",
            "|1000000008|  male|20s|  Korea|   Seoul|         etc|     overseas inflow|       null|             0|              null|    2020-02-02|   2020-02-24|   2020-02-24|released|     22|   True|  false|\n",
            "|1000000009|  male|30s|  Korea|   Seoul|   Songpa-gu|     overseas inflow|       null|            68|              null|    2020-02-05|   2020-02-21|   2020-02-21|released|     16|   True|  false|\n",
            "|1000000010|female|60s|  Korea|   Seoul| Seongbuk-gu|contact with patient| 1000000003|             6|              null|    2020-02-05|   2020-02-29|   2020-02-29|released|     24|  False|  false|\n",
            "|1000000011|female|50s|  China|   Seoul|Seodaemun-gu|     overseas inflow|       null|            23|              null|    2020-02-06|   2020-02-29|   2020-02-29|released|     23|  False|  false|\n",
            "|1000000012|  male|20s|  Korea|   Seoul|         etc|     overseas inflow|       null|             0|              null|    2020-02-07|   2020-02-27|   2020-02-27|released|     20|   True|  false|\n",
            "|1000000013|  male|80s|  Korea|   Seoul|   Jongno-gu|contact with patient| 1000000017|           117|              null|    2020-02-16|         null|         null|deceased|   null|   True|   true|\n",
            "|1000000014|female|60s|  Korea|   Seoul|   Jongno-gu|contact with patient| 1000000013|            27|        2020-02-06|    2020-02-16|   2020-03-12|   2020-03-12|released|     25|  False|  false|\n",
            "|1000000015|  male|70s|  Korea|   Seoul|Seongdong-gu|    Seongdong-gu APT|       null|             8|        2020-02-11|    2020-02-19|         null|         null|released|   null|   True|  false|\n",
            "|1000000016|  male|70s|  Korea|   Seoul|   Jongno-gu|contact with patient| 1000000017|          null|              null|    2020-02-19|   2020-03-11|   2020-03-11|released|     21|   True|  false|\n",
            "|1000000017|  male|70s|  Korea|   Seoul|   Jongno-gu|contact with patient| 1000000003|          null|              null|    2020-02-20|   2020-03-01|   2020-03-01|released|     10|   True|  false|\n",
            "|1000000018|  male|20s|  Korea|   Seoul|         etc|                 etc|       null|          null|              null|    2020-02-20|         null|         null|released|   null|   True|  false|\n",
            "|1000000019|female|70s|  Korea|   Seoul|   Jongno-gu|contact with patient| 1000000021|          null|              null|    2020-02-20|   2020-03-08|   2020-03-08|released|     17|  False|  false|\n",
            "|1000000020|female|70s|  Korea|   Seoul|Seongdong-gu|    Seongdong-gu APT| 1000000015|          null|              null|    2020-02-20|         null|         null|released|   null|  False|  false|\n",
            "+----------+------+---+-------+--------+------------+--------------------+-----------+--------------+------------------+--------------+-------------+-------------+--------+-------+-------+-------+\n",
            "only showing top 20 rows\n",
            "\n"
          ]
        }
      ]
    },
    {
      "cell_type": "markdown",
      "id": "e15264a9",
      "metadata": {
        "id": "e15264a9"
      },
      "source": [
        "### Change the ages to bins from 10s, 0s, 10s, 20s,.etc to 0,10, 20"
      ]
    },
    {
      "cell_type": "code",
      "execution_count": null,
      "id": "7a2b57ed",
      "metadata": {
        "colab": {
          "base_uri": "https://localhost:8080/"
        },
        "id": "7a2b57ed",
        "outputId": "9eef02ff-5d3d-4467-d169-38cb02a182d0"
      },
      "outputs": [
        {
          "output_type": "stream",
          "name": "stdout",
          "text": [
            "+----------+------+---+-------+--------+------------+--------------------+-----------+--------------+------------------+--------------+-------------+-------------+--------+-------+-------+-------+\n",
            "|patient_id|   sex|age|country|province|        city|      infection_case|infected_by|contact_number|symptom_onset_date|confirmed_date|released_date|deceased_date|   state|no_days|is_male|is_dead|\n",
            "+----------+------+---+-------+--------+------------+--------------------+-----------+--------------+------------------+--------------+-------------+-------------+--------+-------+-------+-------+\n",
            "|1000000001|  male| 50|  Korea|   Seoul|  Gangseo-gu|     overseas inflow|       null|            75|        2020-01-22|    2020-01-23|   2020-02-05|   2020-02-05|released|     13|   True|  false|\n",
            "|1000000002|  male| 30|  Korea|   Seoul| Jungnang-gu|     overseas inflow|       null|            31|              null|    2020-01-30|   2020-03-02|   2020-03-02|released|     32|   True|  false|\n",
            "|1000000003|  male| 50|  Korea|   Seoul|   Jongno-gu|contact with patient| 2002000001|            17|              null|    2020-01-30|   2020-02-19|   2020-02-19|released|     20|   True|  false|\n",
            "|1000000004|  male| 20|  Korea|   Seoul|     Mapo-gu|     overseas inflow|       null|             9|        2020-01-26|    2020-01-30|   2020-02-15|   2020-02-15|released|     16|   True|  false|\n",
            "|1000000005|female| 20|  Korea|   Seoul| Seongbuk-gu|contact with patient| 1000000002|             2|              null|    2020-01-31|   2020-02-24|   2020-02-24|released|     24|  False|  false|\n",
            "|1000000006|female| 50|  Korea|   Seoul|   Jongno-gu|contact with patient| 1000000003|            43|              null|    2020-01-31|   2020-02-19|   2020-02-19|released|     19|  False|  false|\n",
            "|1000000007|  male| 20|  Korea|   Seoul|   Jongno-gu|contact with patient| 1000000003|             0|              null|    2020-01-31|   2020-02-10|   2020-02-10|released|     10|   True|  false|\n",
            "|1000000008|  male| 20|  Korea|   Seoul|         etc|     overseas inflow|       null|             0|              null|    2020-02-02|   2020-02-24|   2020-02-24|released|     22|   True|  false|\n",
            "|1000000009|  male| 30|  Korea|   Seoul|   Songpa-gu|     overseas inflow|       null|            68|              null|    2020-02-05|   2020-02-21|   2020-02-21|released|     16|   True|  false|\n",
            "|1000000010|female| 60|  Korea|   Seoul| Seongbuk-gu|contact with patient| 1000000003|             6|              null|    2020-02-05|   2020-02-29|   2020-02-29|released|     24|  False|  false|\n",
            "|1000000011|female| 50|  China|   Seoul|Seodaemun-gu|     overseas inflow|       null|            23|              null|    2020-02-06|   2020-02-29|   2020-02-29|released|     23|  False|  false|\n",
            "|1000000012|  male| 20|  Korea|   Seoul|         etc|     overseas inflow|       null|             0|              null|    2020-02-07|   2020-02-27|   2020-02-27|released|     20|   True|  false|\n",
            "|1000000013|  male| 80|  Korea|   Seoul|   Jongno-gu|contact with patient| 1000000017|           117|              null|    2020-02-16|         null|         null|deceased|   null|   True|   true|\n",
            "|1000000014|female| 60|  Korea|   Seoul|   Jongno-gu|contact with patient| 1000000013|            27|        2020-02-06|    2020-02-16|   2020-03-12|   2020-03-12|released|     25|  False|  false|\n",
            "|1000000015|  male| 70|  Korea|   Seoul|Seongdong-gu|    Seongdong-gu APT|       null|             8|        2020-02-11|    2020-02-19|         null|         null|released|   null|   True|  false|\n",
            "|1000000016|  male| 70|  Korea|   Seoul|   Jongno-gu|contact with patient| 1000000017|          null|              null|    2020-02-19|   2020-03-11|   2020-03-11|released|     21|   True|  false|\n",
            "|1000000017|  male| 70|  Korea|   Seoul|   Jongno-gu|contact with patient| 1000000003|          null|              null|    2020-02-20|   2020-03-01|   2020-03-01|released|     10|   True|  false|\n",
            "|1000000018|  male| 20|  Korea|   Seoul|         etc|                 etc|       null|          null|              null|    2020-02-20|         null|         null|released|   null|   True|  false|\n",
            "|1000000019|female| 70|  Korea|   Seoul|   Jongno-gu|contact with patient| 1000000021|          null|              null|    2020-02-20|   2020-03-08|   2020-03-08|released|     17|  False|  false|\n",
            "|1000000020|female| 70|  Korea|   Seoul|Seongdong-gu|    Seongdong-gu APT| 1000000015|          null|              null|    2020-02-20|         null|         null|released|   null|  False|  false|\n",
            "+----------+------+---+-------+--------+------------+--------------------+-----------+--------------+------------------+--------------+-------------+-------------+--------+-------+-------+-------+\n",
            "only showing top 20 rows\n",
            "\n"
          ]
        }
      ],
      "source": [
        "from pyspark.sql.functions import regexp_replace\n",
        "df = df.withColumn('age', regexp_replace('age', 's', ''))\n",
        "df.show()"
      ]
    },
    {
      "cell_type": "markdown",
      "id": "43cdf846",
      "metadata": {
        "id": "43cdf846"
      },
      "source": [
        "### Change age, and no_days  to be typecasted as Double"
      ]
    },
    {
      "cell_type": "code",
      "execution_count": null,
      "id": "dfea7fcb",
      "metadata": {
        "colab": {
          "base_uri": "https://localhost:8080/"
        },
        "id": "dfea7fcb",
        "outputId": "19c1ff46-97aa-474f-903b-2aed2d0f2388"
      },
      "outputs": [
        {
          "output_type": "stream",
          "name": "stdout",
          "text": [
            "root\n",
            " |-- patient_id: long (nullable = true)\n",
            " |-- sex: string (nullable = true)\n",
            " |-- age: double (nullable = true)\n",
            " |-- country: string (nullable = true)\n",
            " |-- province: string (nullable = true)\n",
            " |-- city: string (nullable = true)\n",
            " |-- infection_case: string (nullable = true)\n",
            " |-- infected_by: string (nullable = true)\n",
            " |-- contact_number: string (nullable = true)\n",
            " |-- symptom_onset_date: string (nullable = true)\n",
            " |-- confirmed_date: date (nullable = true)\n",
            " |-- released_date: string (nullable = true)\n",
            " |-- deceased_date: date (nullable = true)\n",
            " |-- state: string (nullable = true)\n",
            " |-- no_days: double (nullable = true)\n",
            " |-- is_male: string (nullable = false)\n",
            " |-- is_dead: boolean (nullable = true)\n",
            "\n"
          ]
        }
      ],
      "source": [
        "df = df.withColumn('age',df.age.cast('Double')).withColumn('no_days',df.no_days.cast('Double'))\n",
        "df.printSchema()"
      ]
    },
    {
      "cell_type": "code",
      "source": [
        "df.show()"
      ],
      "metadata": {
        "colab": {
          "base_uri": "https://localhost:8080/"
        },
        "id": "4IABDeo7dWEu",
        "outputId": "3c13b62e-03b0-42c6-a7e7-253a3e2be24a"
      },
      "id": "4IABDeo7dWEu",
      "execution_count": null,
      "outputs": [
        {
          "output_type": "stream",
          "name": "stdout",
          "text": [
            "+----------+------+----+-------+--------+------------+--------------------+-----------+--------------+------------------+--------------+-------------+-------------+--------+-------+-------+-------+\n",
            "|patient_id|   sex| age|country|province|        city|      infection_case|infected_by|contact_number|symptom_onset_date|confirmed_date|released_date|deceased_date|   state|no_days|is_male|is_dead|\n",
            "+----------+------+----+-------+--------+------------+--------------------+-----------+--------------+------------------+--------------+-------------+-------------+--------+-------+-------+-------+\n",
            "|1000000001|  male|50.0|  Korea|   Seoul|  Gangseo-gu|     overseas inflow|       null|            75|        2020-01-22|    2020-01-23|   2020-02-05|   2020-02-05|released|   13.0|   True|  false|\n",
            "|1000000002|  male|30.0|  Korea|   Seoul| Jungnang-gu|     overseas inflow|       null|            31|              null|    2020-01-30|   2020-03-02|   2020-03-02|released|   32.0|   True|  false|\n",
            "|1000000003|  male|50.0|  Korea|   Seoul|   Jongno-gu|contact with patient| 2002000001|            17|              null|    2020-01-30|   2020-02-19|   2020-02-19|released|   20.0|   True|  false|\n",
            "|1000000004|  male|20.0|  Korea|   Seoul|     Mapo-gu|     overseas inflow|       null|             9|        2020-01-26|    2020-01-30|   2020-02-15|   2020-02-15|released|   16.0|   True|  false|\n",
            "|1000000005|female|20.0|  Korea|   Seoul| Seongbuk-gu|contact with patient| 1000000002|             2|              null|    2020-01-31|   2020-02-24|   2020-02-24|released|   24.0|  False|  false|\n",
            "|1000000006|female|50.0|  Korea|   Seoul|   Jongno-gu|contact with patient| 1000000003|            43|              null|    2020-01-31|   2020-02-19|   2020-02-19|released|   19.0|  False|  false|\n",
            "|1000000007|  male|20.0|  Korea|   Seoul|   Jongno-gu|contact with patient| 1000000003|             0|              null|    2020-01-31|   2020-02-10|   2020-02-10|released|   10.0|   True|  false|\n",
            "|1000000008|  male|20.0|  Korea|   Seoul|         etc|     overseas inflow|       null|             0|              null|    2020-02-02|   2020-02-24|   2020-02-24|released|   22.0|   True|  false|\n",
            "|1000000009|  male|30.0|  Korea|   Seoul|   Songpa-gu|     overseas inflow|       null|            68|              null|    2020-02-05|   2020-02-21|   2020-02-21|released|   16.0|   True|  false|\n",
            "|1000000010|female|60.0|  Korea|   Seoul| Seongbuk-gu|contact with patient| 1000000003|             6|              null|    2020-02-05|   2020-02-29|   2020-02-29|released|   24.0|  False|  false|\n",
            "|1000000011|female|50.0|  China|   Seoul|Seodaemun-gu|     overseas inflow|       null|            23|              null|    2020-02-06|   2020-02-29|   2020-02-29|released|   23.0|  False|  false|\n",
            "|1000000012|  male|20.0|  Korea|   Seoul|         etc|     overseas inflow|       null|             0|              null|    2020-02-07|   2020-02-27|   2020-02-27|released|   20.0|   True|  false|\n",
            "|1000000013|  male|80.0|  Korea|   Seoul|   Jongno-gu|contact with patient| 1000000017|           117|              null|    2020-02-16|         null|         null|deceased|   null|   True|   true|\n",
            "|1000000014|female|60.0|  Korea|   Seoul|   Jongno-gu|contact with patient| 1000000013|            27|        2020-02-06|    2020-02-16|   2020-03-12|   2020-03-12|released|   25.0|  False|  false|\n",
            "|1000000015|  male|70.0|  Korea|   Seoul|Seongdong-gu|    Seongdong-gu APT|       null|             8|        2020-02-11|    2020-02-19|         null|         null|released|   null|   True|  false|\n",
            "|1000000016|  male|70.0|  Korea|   Seoul|   Jongno-gu|contact with patient| 1000000017|          null|              null|    2020-02-19|   2020-03-11|   2020-03-11|released|   21.0|   True|  false|\n",
            "|1000000017|  male|70.0|  Korea|   Seoul|   Jongno-gu|contact with patient| 1000000003|          null|              null|    2020-02-20|   2020-03-01|   2020-03-01|released|   10.0|   True|  false|\n",
            "|1000000018|  male|20.0|  Korea|   Seoul|         etc|                 etc|       null|          null|              null|    2020-02-20|         null|         null|released|   null|   True|  false|\n",
            "|1000000019|female|70.0|  Korea|   Seoul|   Jongno-gu|contact with patient| 1000000021|          null|              null|    2020-02-20|   2020-03-08|   2020-03-08|released|   17.0|  False|  false|\n",
            "|1000000020|female|70.0|  Korea|   Seoul|Seongdong-gu|    Seongdong-gu APT| 1000000015|          null|              null|    2020-02-20|         null|         null|released|   null|  False|  false|\n",
            "+----------+------+----+-------+--------+------------+--------------------+-----------+--------------+------------------+--------------+-------------+-------------+--------+-------+-------+-------+\n",
            "only showing top 20 rows\n",
            "\n"
          ]
        }
      ]
    },
    {
      "cell_type": "markdown",
      "id": "d31e3a87",
      "metadata": {
        "id": "d31e3a87"
      },
      "source": [
        "### Drop the columns\n",
        "[\"patient_id\",\"sex\",\"infected_by\",\"contact_number\",\"released_date\",\"state\",\n",
        "\"symptom_onset_date\",\"confirmed_date\",\"deceased_date\",\"country\",\"no_days\",\n",
        "\"city\",\"infection_case\"]"
      ]
    },
    {
      "cell_type": "code",
      "execution_count": null,
      "id": "3ae0c428",
      "metadata": {
        "colab": {
          "base_uri": "https://localhost:8080/"
        },
        "id": "3ae0c428",
        "outputId": "43c03b0b-5e86-43e4-c388-ab18d043c784"
      },
      "outputs": [
        {
          "output_type": "stream",
          "name": "stdout",
          "text": [
            "+----+--------+-------+-------+\n",
            "| age|province|is_male|is_dead|\n",
            "+----+--------+-------+-------+\n",
            "|50.0|   Seoul|   True|  false|\n",
            "|30.0|   Seoul|   True|  false|\n",
            "|50.0|   Seoul|   True|  false|\n",
            "|20.0|   Seoul|   True|  false|\n",
            "|20.0|   Seoul|  False|  false|\n",
            "|50.0|   Seoul|  False|  false|\n",
            "|20.0|   Seoul|   True|  false|\n",
            "|20.0|   Seoul|   True|  false|\n",
            "|30.0|   Seoul|   True|  false|\n",
            "|60.0|   Seoul|  False|  false|\n",
            "|50.0|   Seoul|  False|  false|\n",
            "|20.0|   Seoul|   True|  false|\n",
            "|80.0|   Seoul|   True|   true|\n",
            "|60.0|   Seoul|  False|  false|\n",
            "|70.0|   Seoul|   True|  false|\n",
            "|70.0|   Seoul|   True|  false|\n",
            "|70.0|   Seoul|   True|  false|\n",
            "|20.0|   Seoul|   True|  false|\n",
            "|70.0|   Seoul|  False|  false|\n",
            "|70.0|   Seoul|  False|  false|\n",
            "+----+--------+-------+-------+\n",
            "only showing top 20 rows\n",
            "\n"
          ]
        }
      ],
      "source": [
        "df = df.drop(\"patient_id\",\"sex\",\"infected_by\",\"contact_number\",\"released_date\",\"state\", \"symptom_onset_date\",\"confirmed_date\",\"deceased_date\",\"country\",\"no_days\",\"city\",\"infection_case\")\n",
        "df.show()"
      ]
    },
    {
      "cell_type": "markdown",
      "id": "32df47a6",
      "metadata": {
        "id": "32df47a6"
      },
      "source": [
        "### Recount the number of nulls now"
      ]
    },
    {
      "cell_type": "code",
      "execution_count": null,
      "id": "6d66eaa7",
      "metadata": {
        "colab": {
          "base_uri": "https://localhost:8080/"
        },
        "id": "6d66eaa7",
        "outputId": "36c59b2a-207e-4d0e-d747-a1474ca5d8e0"
      },
      "outputs": [
        {
          "output_type": "stream",
          "name": "stdout",
          "text": [
            "+----+--------+-------+-------+\n",
            "| age|province|is_male|is_dead|\n",
            "+----+--------+-------+-------+\n",
            "|1380|       0|      0|      0|\n",
            "+----+--------+-------+-------+\n",
            "\n"
          ]
        }
      ],
      "source": [
        "df.select([count(when(col(c).isNull(),c)).alias(c) for c in df.columns]).show()"
      ]
    },
    {
      "cell_type": "markdown",
      "id": "cc71f158",
      "metadata": {
        "id": "cc71f158"
      },
      "source": [
        "## Now do the same but using SQL select statement"
      ]
    },
    {
      "cell_type": "markdown",
      "id": "1d540282",
      "metadata": {
        "id": "1d540282"
      },
      "source": [
        "### From the original Patient DataFrame, Create a temporary view (table)."
      ]
    },
    {
      "cell_type": "code",
      "execution_count": null,
      "id": "cf56099f",
      "metadata": {
        "id": "cf56099f"
      },
      "outputs": [],
      "source": [
        "df1.createOrReplaceTempView('MyTempView')"
      ]
    },
    {
      "cell_type": "markdown",
      "id": "cb004277",
      "metadata": {
        "id": "cb004277"
      },
      "source": [
        "### Use SELECT statement to select all columns from the dataframe and show the output."
      ]
    },
    {
      "cell_type": "code",
      "execution_count": null,
      "id": "12ae8226",
      "metadata": {
        "scrolled": false,
        "colab": {
          "base_uri": "https://localhost:8080/"
        },
        "id": "12ae8226",
        "outputId": "71035fa0-22c0-4c67-b157-0a7023123c43"
      },
      "outputs": [
        {
          "output_type": "stream",
          "name": "stdout",
          "text": [
            "+----------+------+---+-------+--------+------------+--------------------+-----------+--------------+------------------+--------------+-------------+-------------+--------+\n",
            "|patient_id|   sex|age|country|province|        city|      infection_case|infected_by|contact_number|symptom_onset_date|confirmed_date|released_date|deceased_date|   state|\n",
            "+----------+------+---+-------+--------+------------+--------------------+-----------+--------------+------------------+--------------+-------------+-------------+--------+\n",
            "|1000000001|  male|50s|  Korea|   Seoul|  Gangseo-gu|     overseas inflow|       null|            75|        2020-01-22|    2020-01-23|   2020-02-05|         null|released|\n",
            "|1000000002|  male|30s|  Korea|   Seoul| Jungnang-gu|     overseas inflow|       null|            31|              null|    2020-01-30|   2020-03-02|         null|released|\n",
            "|1000000003|  male|50s|  Korea|   Seoul|   Jongno-gu|contact with patient| 2002000001|            17|              null|    2020-01-30|   2020-02-19|         null|released|\n",
            "|1000000004|  male|20s|  Korea|   Seoul|     Mapo-gu|     overseas inflow|       null|             9|        2020-01-26|    2020-01-30|   2020-02-15|         null|released|\n",
            "|1000000005|female|20s|  Korea|   Seoul| Seongbuk-gu|contact with patient| 1000000002|             2|              null|    2020-01-31|   2020-02-24|         null|released|\n",
            "|1000000006|female|50s|  Korea|   Seoul|   Jongno-gu|contact with patient| 1000000003|            43|              null|    2020-01-31|   2020-02-19|         null|released|\n",
            "|1000000007|  male|20s|  Korea|   Seoul|   Jongno-gu|contact with patient| 1000000003|             0|              null|    2020-01-31|   2020-02-10|         null|released|\n",
            "|1000000008|  male|20s|  Korea|   Seoul|         etc|     overseas inflow|       null|             0|              null|    2020-02-02|   2020-02-24|         null|released|\n",
            "|1000000009|  male|30s|  Korea|   Seoul|   Songpa-gu|     overseas inflow|       null|            68|              null|    2020-02-05|   2020-02-21|         null|released|\n",
            "|1000000010|female|60s|  Korea|   Seoul| Seongbuk-gu|contact with patient| 1000000003|             6|              null|    2020-02-05|   2020-02-29|         null|released|\n",
            "|1000000011|female|50s|  China|   Seoul|Seodaemun-gu|     overseas inflow|       null|            23|              null|    2020-02-06|   2020-02-29|         null|released|\n",
            "|1000000012|  male|20s|  Korea|   Seoul|         etc|     overseas inflow|       null|             0|              null|    2020-02-07|   2020-02-27|         null|released|\n",
            "|1000000013|  male|80s|  Korea|   Seoul|   Jongno-gu|contact with patient| 1000000017|           117|              null|    2020-02-16|         null|         null|deceased|\n",
            "|1000000014|female|60s|  Korea|   Seoul|   Jongno-gu|contact with patient| 1000000013|            27|        2020-02-06|    2020-02-16|   2020-03-12|         null|released|\n",
            "|1000000015|  male|70s|  Korea|   Seoul|Seongdong-gu|    Seongdong-gu APT|       null|             8|        2020-02-11|    2020-02-19|         null|         null|released|\n",
            "|1000000016|  male|70s|  Korea|   Seoul|   Jongno-gu|contact with patient| 1000000017|          null|              null|    2020-02-19|   2020-03-11|         null|released|\n",
            "|1000000017|  male|70s|  Korea|   Seoul|   Jongno-gu|contact with patient| 1000000003|          null|              null|    2020-02-20|   2020-03-01|         null|released|\n",
            "|1000000018|  male|20s|  Korea|   Seoul|         etc|                 etc|       null|          null|              null|    2020-02-20|         null|         null|released|\n",
            "|1000000019|female|70s|  Korea|   Seoul|   Jongno-gu|contact with patient| 1000000021|          null|              null|    2020-02-20|   2020-03-08|         null|released|\n",
            "|1000000020|female|70s|  Korea|   Seoul|Seongdong-gu|    Seongdong-gu APT| 1000000015|          null|              null|    2020-02-20|         null|         null|released|\n",
            "+----------+------+---+-------+--------+------------+--------------------+-----------+--------------+------------------+--------------+-------------+-------------+--------+\n",
            "only showing top 20 rows\n",
            "\n"
          ]
        }
      ],
      "source": [
        "spark.sql(\"select * from MyTempView\").show()"
      ]
    },
    {
      "cell_type": "markdown",
      "id": "e0da4318",
      "metadata": {
        "id": "e0da4318"
      },
      "source": [
        "### *Using SQL commands*, limit the output to only 5 rows "
      ]
    },
    {
      "cell_type": "code",
      "execution_count": null,
      "id": "97911bdd",
      "metadata": {
        "colab": {
          "base_uri": "https://localhost:8080/"
        },
        "id": "97911bdd",
        "outputId": "1923ae73-57f5-4531-80cf-2d3aee7a928d"
      },
      "outputs": [
        {
          "output_type": "stream",
          "name": "stdout",
          "text": [
            "+----------+------+---+-------+--------+-----------+--------------------+-----------+--------------+------------------+--------------+-------------+-------------+--------+\n",
            "|patient_id|   sex|age|country|province|       city|      infection_case|infected_by|contact_number|symptom_onset_date|confirmed_date|released_date|deceased_date|   state|\n",
            "+----------+------+---+-------+--------+-----------+--------------------+-----------+--------------+------------------+--------------+-------------+-------------+--------+\n",
            "|1000000001|  male|50s|  Korea|   Seoul| Gangseo-gu|     overseas inflow|       null|            75|        2020-01-22|    2020-01-23|   2020-02-05|         null|released|\n",
            "|1000000002|  male|30s|  Korea|   Seoul|Jungnang-gu|     overseas inflow|       null|            31|              null|    2020-01-30|   2020-03-02|         null|released|\n",
            "|1000000003|  male|50s|  Korea|   Seoul|  Jongno-gu|contact with patient| 2002000001|            17|              null|    2020-01-30|   2020-02-19|         null|released|\n",
            "|1000000004|  male|20s|  Korea|   Seoul|    Mapo-gu|     overseas inflow|       null|             9|        2020-01-26|    2020-01-30|   2020-02-15|         null|released|\n",
            "|1000000005|female|20s|  Korea|   Seoul|Seongbuk-gu|contact with patient| 1000000002|             2|              null|    2020-01-31|   2020-02-24|         null|released|\n",
            "+----------+------+---+-------+--------+-----------+--------------------+-----------+--------------+------------------+--------------+-------------+-------------+--------+\n",
            "\n"
          ]
        }
      ],
      "source": [
        "spark.sql(\"select * from MyTempView limit 5\").show()"
      ]
    },
    {
      "cell_type": "markdown",
      "id": "b70edf17",
      "metadata": {
        "id": "b70edf17"
      },
      "source": [
        "### Select the count of males and females in the dataset"
      ]
    },
    {
      "cell_type": "code",
      "execution_count": null,
      "id": "00e9fd65",
      "metadata": {
        "colab": {
          "base_uri": "https://localhost:8080/"
        },
        "id": "00e9fd65",
        "outputId": "1ef1a051-d432-44cc-c116-3ade14ab33e1"
      },
      "outputs": [
        {
          "output_type": "stream",
          "name": "stdout",
          "text": [
            "+------+----------+\n",
            "|   sex|count(sex)|\n",
            "+------+----------+\n",
            "|  null|         0|\n",
            "|female|      2218|\n",
            "|  male|      1825|\n",
            "+------+----------+\n",
            "\n"
          ]
        }
      ],
      "source": [
        "spark.sql(\"select sex, count(sex) from MyTempView group by sex\").show()"
      ]
    },
    {
      "cell_type": "markdown",
      "id": "73683674",
      "metadata": {
        "id": "73683674"
      },
      "source": [
        "### How many people did survive, and how many didn't?"
      ]
    },
    {
      "cell_type": "code",
      "execution_count": null,
      "id": "1e5a3908",
      "metadata": {
        "colab": {
          "base_uri": "https://localhost:8080/"
        },
        "id": "1e5a3908",
        "outputId": "9d2b4c8a-905f-4b5e-9433-c9c4d6f0e171"
      },
      "outputs": [
        {
          "output_type": "stream",
          "name": "stdout",
          "text": [
            "+------+----------+\n",
            "|   sex|count(sex)|\n",
            "+------+----------+\n",
            "|  null|         0|\n",
            "|female|      2218|\n",
            "|  male|      1825|\n",
            "+------+----------+\n",
            "\n"
          ]
        }
      ],
      "source": [
        "spark.sql(\"select sex, count(sex) from MyTempView group by sex\").show()"
      ]
    },
    {
      "cell_type": "markdown",
      "id": "d4424228",
      "metadata": {
        "id": "d4424228"
      },
      "source": [
        "### Now, let's perform some preprocessing using SQL:\n",
        "1. Convert *age* column to double after removing the 's' at the end -- *hint: check SUBSTRING method*\n",
        "2. Select only the following columns: `['sex', 'age', 'province', 'state']`\n",
        "3. Store the result of the query in a new dataframe"
      ]
    },
    {
      "cell_type": "code",
      "source": [
        "df2 = spark.sql(\"SELECT sex, cast(SUBSTRING(age, 0, 2 ) as double) as age, province, state  from MyTempView\")"
      ],
      "metadata": {
        "id": "DK5GSSPLAh_D"
      },
      "id": "DK5GSSPLAh_D",
      "execution_count": null,
      "outputs": []
    },
    {
      "cell_type": "code",
      "execution_count": null,
      "id": "d3cf4f0f",
      "metadata": {
        "scrolled": true,
        "colab": {
          "base_uri": "https://localhost:8080/"
        },
        "id": "d3cf4f0f",
        "outputId": "389b16de-bfe2-4d2d-f37c-6774c741d58e"
      },
      "outputs": [
        {
          "output_type": "stream",
          "name": "stdout",
          "text": [
            "+------+----+--------+--------+\n",
            "|   sex| age|province|   state|\n",
            "+------+----+--------+--------+\n",
            "|  male|50.0|   Seoul|released|\n",
            "|  male|30.0|   Seoul|released|\n",
            "|  male|50.0|   Seoul|released|\n",
            "|  male|20.0|   Seoul|released|\n",
            "|female|20.0|   Seoul|released|\n",
            "|female|50.0|   Seoul|released|\n",
            "|  male|20.0|   Seoul|released|\n",
            "|  male|20.0|   Seoul|released|\n",
            "|  male|30.0|   Seoul|released|\n",
            "|female|60.0|   Seoul|released|\n",
            "|female|50.0|   Seoul|released|\n",
            "|  male|20.0|   Seoul|released|\n",
            "|  male|80.0|   Seoul|deceased|\n",
            "|female|60.0|   Seoul|released|\n",
            "|  male|70.0|   Seoul|released|\n",
            "|  male|70.0|   Seoul|released|\n",
            "|  male|70.0|   Seoul|released|\n",
            "|  male|20.0|   Seoul|released|\n",
            "|female|70.0|   Seoul|released|\n",
            "|female|70.0|   Seoul|released|\n",
            "+------+----+--------+--------+\n",
            "only showing top 20 rows\n",
            "\n"
          ]
        }
      ],
      "source": [
        "df2.show()"
      ]
    },
    {
      "cell_type": "markdown",
      "id": "d4a24c24",
      "metadata": {
        "id": "d4a24c24"
      },
      "source": [
        "## Machine Learning \n",
        "### Create a pipeline model to predict is_dead and evaluate the performance.\n",
        "- Use <b>StringIndexer</b> to transform <b>string</b> data type to indices.\n",
        "- Use <b>OneHotEncoder</b> to deal with categorical values.\n",
        "- Use <b>Imputer</b> to fill missing data with mean."
      ]
    },
    {
      "cell_type": "code",
      "source": [
        "df = df.withColumn('is_dead', when((df.is_dead == True), lit(1)).otherwise(lit(0)))"
      ],
      "metadata": {
        "id": "vweg-4M_vKxg"
      },
      "id": "vweg-4M_vKxg",
      "execution_count": null,
      "outputs": []
    },
    {
      "cell_type": "code",
      "source": [
        "df.show()"
      ],
      "metadata": {
        "colab": {
          "base_uri": "https://localhost:8080/"
        },
        "id": "BUYlAIL_vSue",
        "outputId": "8f9fba6d-26e3-455a-90a9-d74155533ea6"
      },
      "id": "BUYlAIL_vSue",
      "execution_count": null,
      "outputs": [
        {
          "output_type": "stream",
          "name": "stdout",
          "text": [
            "+----+--------+-------+-------+\n",
            "| age|province|is_male|is_dead|\n",
            "+----+--------+-------+-------+\n",
            "|50.0|   Seoul|   True|      0|\n",
            "|30.0|   Seoul|   True|      0|\n",
            "|50.0|   Seoul|   True|      0|\n",
            "|20.0|   Seoul|   True|      0|\n",
            "|20.0|   Seoul|  False|      0|\n",
            "|50.0|   Seoul|  False|      0|\n",
            "|20.0|   Seoul|   True|      0|\n",
            "|20.0|   Seoul|   True|      0|\n",
            "|30.0|   Seoul|   True|      0|\n",
            "|60.0|   Seoul|  False|      0|\n",
            "|50.0|   Seoul|  False|      0|\n",
            "|20.0|   Seoul|   True|      0|\n",
            "|80.0|   Seoul|   True|      1|\n",
            "|60.0|   Seoul|  False|      0|\n",
            "|70.0|   Seoul|   True|      0|\n",
            "|70.0|   Seoul|   True|      0|\n",
            "|70.0|   Seoul|   True|      0|\n",
            "|20.0|   Seoul|   True|      0|\n",
            "|70.0|   Seoul|  False|      0|\n",
            "|70.0|   Seoul|  False|      0|\n",
            "+----+--------+-------+-------+\n",
            "only showing top 20 rows\n",
            "\n"
          ]
        }
      ]
    },
    {
      "cell_type": "code",
      "execution_count": null,
      "id": "7a71806f",
      "metadata": {
        "id": "7a71806f"
      },
      "outputs": [],
      "source": [
        "from pyspark.ml.feature import StringIndexer,OneHotEncoder,VectorAssembler, Imputer\n",
        "\n",
        "categoricalCols = [f for (f,d) in df.dtypes if ((d == 'string')&(f!='is_dead'))]\n",
        "indexOutputCols = [x + \"_Index\" for x in categoricalCols]\n",
        "oheOutputCols = [x + \"_OHE\" for x in categoricalCols]\n",
        "\n",
        "stringIndexer = StringIndexer(inputCols=categoricalCols,outputCols=indexOutputCols,handleInvalid='keep')\n",
        "\n",
        "oheEncoder = OneHotEncoder(inputCols=indexOutputCols,outputCols=oheOutputCols)"
      ]
    },
    {
      "cell_type": "code",
      "source": [
        "numericCols = [f for (f,d) in df.dtypes if ((d == 'double')&(f!='is_dead'))]\n",
        "imputedCols =  [x + \"imputed\" for x in numericCols]"
      ],
      "metadata": {
        "id": "9RTA9KcUsuCU"
      },
      "id": "9RTA9KcUsuCU",
      "execution_count": null,
      "outputs": []
    },
    {
      "cell_type": "code",
      "source": [
        "imputer = Imputer(strategy='mean', inputCols=numericCols, outputCols=imputedCols)"
      ],
      "metadata": {
        "id": "YVLi0tMzwgGW"
      },
      "id": "YVLi0tMzwgGW",
      "execution_count": null,
      "outputs": []
    },
    {
      "cell_type": "code",
      "source": [
        "assemblerInputs = oheOutputCols + imputedCols\n",
        "assemblerInputs"
      ],
      "metadata": {
        "colab": {
          "base_uri": "https://localhost:8080/"
        },
        "id": "WS2OftF1syDH",
        "outputId": "071ac041-bec0-454f-9ccd-3225c43dcdec"
      },
      "id": "WS2OftF1syDH",
      "execution_count": null,
      "outputs": [
        {
          "output_type": "execute_result",
          "data": {
            "text/plain": [
              "['province_OHE', 'is_male_OHE', 'ageimputed']"
            ]
          },
          "metadata": {},
          "execution_count": 294
        }
      ]
    },
    {
      "cell_type": "code",
      "source": [
        "vecAssembler = VectorAssembler(inputCols=assemblerInputs, outputCol='features')"
      ],
      "metadata": {
        "id": "esELJuN9s3d8"
      },
      "id": "esELJuN9s3d8",
      "execution_count": null,
      "outputs": []
    },
    {
      "cell_type": "code",
      "source": [
        "from pyspark.ml.classification import LogisticRegression\n",
        "lr = LogisticRegression(featuresCol='features',\n",
        "                      labelCol='is_dead',\n",
        "                      predictionCol='prediction')"
      ],
      "metadata": {
        "id": "KaRPRQPys_Cz"
      },
      "id": "KaRPRQPys_Cz",
      "execution_count": null,
      "outputs": []
    },
    {
      "cell_type": "code",
      "source": [
        "from pyspark.ml import Pipeline\n",
        "\n",
        "trainDF, testDF = df.randomSplit([0.8,0.2],seed=42)\n",
        "\n",
        "myStages = [stringIndexer, oheEncoder, imputer, vecAssembler,lr]\n",
        "pipeline = Pipeline(stages=myStages)\n",
        "pipelineModel = pipeline.fit(trainDF)\n",
        "predDF = pipelineModel.transform(testDF)"
      ],
      "metadata": {
        "id": "pU8Ykmy6tG5D"
      },
      "id": "pU8Ykmy6tG5D",
      "execution_count": null,
      "outputs": []
    },
    {
      "cell_type": "code",
      "source": [
        "predDF.show(10)"
      ],
      "metadata": {
        "colab": {
          "base_uri": "https://localhost:8080/"
        },
        "id": "wVYwbiVKw_lx",
        "outputId": "bf593b6c-da12-4206-f5b4-aa50e82bf59d"
      },
      "id": "wVYwbiVKw_lx",
      "execution_count": null,
      "outputs": [
        {
          "output_type": "stream",
          "name": "stdout",
          "text": [
            "+----+-----------+-------+-------+--------------+-------------+---------------+-------------+------------------+--------------------+--------------------+--------------------+----------+\n",
            "| age|   province|is_male|is_dead|province_Index|is_male_Index|   province_OHE|  is_male_OHE|        ageimputed|            features|       rawPrediction|         probability|prediction|\n",
            "+----+-----------+-------+-------+--------------+-------------+---------------+-------------+------------------+--------------------+--------------------+--------------------+----------+\n",
            "|null| Gangwon-do|  False|      0|          10.0|          0.0|(17,[10],[1.0])|(2,[0],[1.0])|40.085978835978835|(20,[10,17,19],[1...|[0.74231215165995...|[0.67750125309139...|       0.0|\n",
            "|null|Gyeonggi-do|  False|      1|           2.0|          0.0| (17,[2],[1.0])|(2,[0],[1.0])|40.085978835978835|(20,[2,17,19],[1....|[-3.1704499900426...|[0.04029301093980...|       1.0|\n",
            "|null|Gyeonggi-do|  False|      1|           2.0|          0.0| (17,[2],[1.0])|(2,[0],[1.0])|40.085978835978835|(20,[2,17,19],[1....|[-3.1704499900426...|[0.04029301093980...|       1.0|\n",
            "|null|Gyeonggi-do|  False|      1|           2.0|          0.0| (17,[2],[1.0])|(2,[0],[1.0])|40.085978835978835|(20,[2,17,19],[1....|[-3.1704499900426...|[0.04029301093980...|       1.0|\n",
            "|null|Gyeonggi-do|  False|      1|           2.0|          0.0| (17,[2],[1.0])|(2,[0],[1.0])|40.085978835978835|(20,[2,17,19],[1....|[-3.1704499900426...|[0.04029301093980...|       1.0|\n",
            "|null|Gyeonggi-do|  False|      1|           2.0|          0.0| (17,[2],[1.0])|(2,[0],[1.0])|40.085978835978835|(20,[2,17,19],[1....|[-3.1704499900426...|[0.04029301093980...|       1.0|\n",
            "|null|Gyeonggi-do|  False|      1|           2.0|          0.0| (17,[2],[1.0])|(2,[0],[1.0])|40.085978835978835|(20,[2,17,19],[1....|[-3.1704499900426...|[0.04029301093980...|       1.0|\n",
            "|null|Gyeonggi-do|  False|      1|           2.0|          0.0| (17,[2],[1.0])|(2,[0],[1.0])|40.085978835978835|(20,[2,17,19],[1....|[-3.1704499900426...|[0.04029301093980...|       1.0|\n",
            "|null|Gyeonggi-do|  False|      1|           2.0|          0.0| (17,[2],[1.0])|(2,[0],[1.0])|40.085978835978835|(20,[2,17,19],[1....|[-3.1704499900426...|[0.04029301093980...|       1.0|\n",
            "|null|Gyeonggi-do|  False|      1|           2.0|          0.0| (17,[2],[1.0])|(2,[0],[1.0])|40.085978835978835|(20,[2,17,19],[1....|[-3.1704499900426...|[0.04029301093980...|       1.0|\n",
            "+----+-----------+-------+-------+--------------+-------------+---------------+-------------+------------------+--------------------+--------------------+--------------------+----------+\n",
            "only showing top 10 rows\n",
            "\n"
          ]
        }
      ]
    },
    {
      "cell_type": "code",
      "source": [
        "from pyspark.ml.evaluation import MulticlassClassificationEvaluator\n",
        "regeval_r2 = MulticlassClassificationEvaluator(predictionCol='prediction',labelCol='is_dead', metricName = 'accuracy')"
      ],
      "metadata": {
        "id": "5HibX9kPtQ4H"
      },
      "id": "5HibX9kPtQ4H",
      "execution_count": null,
      "outputs": []
    },
    {
      "cell_type": "code",
      "source": [
        "regeval_r2.evaluate(predDF)"
      ],
      "metadata": {
        "colab": {
          "base_uri": "https://localhost:8080/"
        },
        "id": "RZAmsNDwtUh4",
        "outputId": "d37bee4a-dcdc-4214-8123-d7e1864ff733"
      },
      "id": "RZAmsNDwtUh4",
      "execution_count": null,
      "outputs": [
        {
          "output_type": "execute_result",
          "data": {
            "text/plain": [
              "0.8268268268268268"
            ]
          },
          "metadata": {},
          "execution_count": 317
        }
      ]
    },
    {
      "cell_type": "code",
      "source": [
        ""
      ],
      "metadata": {
        "id": "alTiUv70_Tf6"
      },
      "id": "alTiUv70_Tf6",
      "execution_count": null,
      "outputs": []
    }
  ],
  "metadata": {
    "kernelspec": {
      "display_name": "Python 3 (ipykernel)",
      "language": "python",
      "name": "python3"
    },
    "language_info": {
      "codemirror_mode": {
        "name": "ipython",
        "version": 3
      },
      "file_extension": ".py",
      "mimetype": "text/x-python",
      "name": "python",
      "nbconvert_exporter": "python",
      "pygments_lexer": "ipython3",
      "version": "3.9.12"
    },
    "colab": {
      "name": "Abdallah Mohammed Ahmed- Practical_Day_1_DF_SQL_ML_Student.ipynb",
      "provenance": [],
      "collapsed_sections": []
    }
  },
  "nbformat": 4,
  "nbformat_minor": 5
}